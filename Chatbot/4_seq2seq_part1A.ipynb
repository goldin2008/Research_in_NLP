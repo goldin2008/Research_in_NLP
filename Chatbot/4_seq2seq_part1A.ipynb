{
 "cells": [
  {
   "cell_type": "markdown",
   "metadata": {},
   "source": [
    "# 这一部分演示使用dynamic_rnn实现简单的seq2seq模型\n",
    "主要参考 github repo [tensorflow-seq2seq-tutorial](https://github.com/ematvey/tensorflow-seq2seq-tutorials)的第一和第二部分"
   ]
  },
  {
   "cell_type": "code",
   "execution_count": 1,
   "metadata": {
    "collapsed": true
   },
   "outputs": [],
   "source": [
    "# 产生不定长合成序列的函数\n",
    "import helpers as data_helpers"
   ]
  },
  {
   "cell_type": "markdown",
   "metadata": {},
   "source": [
    "## Demo-I：使用dynamic_rnn实现简单的seq2seq模型\n",
    "\n",
    "### 使用一个合成的minibatch data解释seq2seq模型\n",
    "\n",
    "### seq2seq模型任务是copy sequence"
   ]
  },
  {
   "cell_type": "markdown",
   "metadata": {},
   "source": [
    "### 0. 合成数据\n",
    "\n",
    "**seq2seq模型中的数据特征：不定长度的序列样本**"
   ]
  },
  {
   "cell_type": "code",
   "execution_count": 2,
   "metadata": {
    "collapsed": true
   },
   "outputs": [],
   "source": [
    "x = [[5, 7, 8], [6, 3], [3], [1]]\n",
    "xt, xlen = data_helpers.batch(x)"
   ]
  },
  {
   "cell_type": "code",
   "execution_count": 3,
   "metadata": {},
   "outputs": [
    {
     "name": "stdout",
     "output_type": "stream",
     "text": [
      "原始的4个序列样本是:\n",
      "[[5, 7, 8], [6, 3], [3], [1]]\n",
      "\n",
      "padding以后使用time-major记录的数据array: \n",
      "[[5 6 3 1]\n",
      " [7 3 0 0]\n",
      " [8 0 0 0]]\n",
      "\n",
      "padding以后使用batch-major记录的数据array: \n",
      "[[5 7 8]\n",
      " [6 3 0]\n",
      " [3 0 0]\n",
      " [1 0 0]]\n",
      "\n",
      "padding以后序列长度是: \n",
      " [3, 2, 1, 1]\n"
     ]
    }
   ],
   "source": [
    "print('原始的4个序列样本是:\\n%s' % x)\n",
    "print('\\npadding以后使用time-major记录的数据array: \\n%s' % xt)\n",
    "print('\\npadding以后使用batch-major记录的数据array: \\n%s' % xt.T)\n",
    "print('\\npadding以后序列长度是: \\n %s' % xlen)"
   ]
  },
  {
   "cell_type": "markdown",
   "metadata": {},
   "source": [
    "**`InteractiveSession`**在 理解tf的函数 和 debug一段代码 方面非常有用"
   ]
  },
  {
   "cell_type": "code",
   "execution_count": 4,
   "metadata": {
    "collapsed": true
   },
   "outputs": [],
   "source": [
    "import numpy as np\n",
    "import tensorflow as tf\n",
    "\n",
    "tf.reset_default_graph()\n",
    "sess = tf.InteractiveSession()"
   ]
  },
  {
   "cell_type": "code",
   "execution_count": 5,
   "metadata": {
    "collapsed": true
   },
   "outputs": [],
   "source": [
    "PAD = 0\n",
    "EOS = 1\n",
    "\n",
    "vocab_size = 10\n",
    "input_embedding_size = 20\n",
    "\n",
    "encoder_hidden_units = 20\n",
    "decoder_hidden_units = 2 * encoder_hidden_units # bidirectional RNN, 见后面的解释"
   ]
  },
  {
   "cell_type": "markdown",
   "metadata": {},
   "source": [
    "## 1. placeholders,模型的数据"
   ]
  },
  {
   "cell_type": "code",
   "execution_count": 6,
   "metadata": {
    "collapsed": true
   },
   "outputs": [],
   "source": [
    "with tf.name_scope('minibatch'):\n",
    "    # encoding 阶段的 placeholder\n",
    "    encoder_inputs = tf.placeholder(shape=(None, None),\n",
    "                                    dtype=tf.int32,\n",
    "                                    name='encoder_inputs')\n",
    "    encoder_inputs_length = tf.placeholder(shape=(None,),\n",
    "                                           dtype=tf.int32,\n",
    "                                           name='encoder_inputs_length')\n",
    "\n",
    "    # decoding 阶段的placeholder\n",
    "    decoder_inputs = tf.placeholder(shape=(None, None),\n",
    "                                    dtype=tf.int32,\n",
    "                                    name='decoder_inputs')\n",
    "    \n",
    "    # decoding 结束后用来计算损失函数\n",
    "    decoder_targets = tf.placeholder(shape=(None, None),\n",
    "                                     dtype=tf.int32,\n",
    "                                     name='decoder_targets')"
   ]
  },
  {
   "cell_type": "markdown",
   "metadata": {},
   "source": [
    "![alt text](figure/seq2seq2014.png)\n",
    "图片来自[Sutskever et al., 2014](https://arxiv.org/abs/1409.3215)\n",
    "\n",
    "**在这个图示的例子里面**\n",
    "* `encoder_inputs = ['A', 'B', 'C']`\n",
    "* `decoder_inputs = [<EOS>, 'W', 'X', 'Y', 'Z']`\n",
    "* `decoder_targets = ['W', 'X', 'Y', 'Z', <EOS>]`\n",
    "\n",
    "在图示的decoding阶段，每个时间，真实的sequence[t] 被提供给RNN-cell去预测 sequence[t+1]（近似于第二节课的RNNLM），**只适用于训练阶段**"
   ]
  },
  {
   "cell_type": "code",
   "execution_count": 7,
   "metadata": {
    "collapsed": true
   },
   "outputs": [],
   "source": [
    "with tf.name_scope('embedding'):\n",
    "    embeddings = tf.Variable(\n",
    "        tf.random_uniform([vocab_size, input_embedding_size], -1.0, 1.0),\n",
    "        dtype=tf.float32)\n",
    "\n",
    "encoder_inputs_embedded = tf.nn.embedding_lookup(embeddings, encoder_inputs)\n",
    "decoder_inputs_embedded = tf.nn.embedding_lookup(embeddings, decoder_inputs)"
   ]
  },
  {
   "cell_type": "markdown",
   "metadata": {},
   "source": [
    "## 2. Encoder\n",
    "使用dynamic_rnn将一个Mini-batch样本编码，只保留每一个sequence结尾处的state"
   ]
  },
  {
   "cell_type": "code",
   "execution_count": 8,
   "metadata": {
    "collapsed": true
   },
   "outputs": [],
   "source": [
    "encoder_cell = tf.nn.rnn_cell.BasicLSTMCell(encoder_hidden_units)"
   ]
  },
  {
   "cell_type": "markdown",
   "metadata": {},
   "source": [
    "第三节课的代码里面已经演示了dynamic_rnn进行encoding：\n",
    "```python\n",
    "_, encoder_final_state = tf.nn.dynamic_rnn(\n",
    "    cell = encoder_cell,\n",
    "    inputs = encoder_inputs_embedded,\n",
    "    sequence_length = encoder_inputs_length,\n",
    "    dtype=tf.float32,\n",
    "    time_major=True,\n",
    ")\n",
    "```\n",
    "这里我们使用双向 `dynamic_rnn`:\n",
    "\n",
    "![alt text](figure/RNN-bidirectional.png)\n",
    "图片来自于[Colah的blog](http://colah.github.io/posts/2015-09-NN-Types-FP/)"
   ]
  },
  {
   "cell_type": "code",
   "execution_count": 9,
   "metadata": {
    "collapsed": true
   },
   "outputs": [],
   "source": [
    "(\n",
    "    (encoder_fw_outputs, encoder_bw_outputs), \n",
    "    (encoder_fw_final_state, encoder_bw_final_state)\n",
    ") = (\n",
    "    tf.nn.bidirectional_dynamic_rnn(\n",
    "        cell_fw=encoder_cell,\n",
    "        cell_bw=encoder_cell,\n",
    "        inputs=encoder_inputs_embedded,\n",
    "        sequence_length=encoder_inputs_length,\n",
    "        dtype=tf.float32,\n",
    "        time_major=True)\n",
    ")"
   ]
  },
  {
   "cell_type": "markdown",
   "metadata": {},
   "source": [
    "前向和逆向lstm-RNN的final state拼接起来 （来自colah博客的图片演示了output的拼接）\n",
    "\n",
    "`final_state_c`, `final_state_h`\n",
    "\n",
    "从`[batch_size, numHidden]` 变成`[batch_size, 2*numHidden]`"
   ]
  },
  {
   "cell_type": "code",
   "execution_count": 10,
   "metadata": {
    "collapsed": true
   },
   "outputs": [],
   "source": [
    "encoder_final_state_c = tf.concat(\n",
    "    (encoder_fw_final_state.c, encoder_bw_final_state.c), 1)\n",
    "\n",
    "encoder_final_state_h = tf.concat(\n",
    "    (encoder_fw_final_state.h, encoder_bw_final_state.h), 1)\n",
    "\n",
    "encoder_final_state = tf.nn.rnn_cell.LSTMStateTuple(\n",
    "    c=encoder_final_state_c,\n",
    "    h=encoder_final_state_h\n",
    ")"
   ]
  },
  {
   "cell_type": "code",
   "execution_count": 11,
   "metadata": {},
   "outputs": [
    {
     "name": "stdout",
     "output_type": "stream",
     "text": [
      "拼接前的前向和反向LSTM的状态Tensors\n",
      "\n",
      "前向:\n",
      "\tLSTMStateTuple(c=<tf.Tensor 'bidirectional_rnn/fw/fw/while/Exit_2:0' shape=(?, 20) dtype=float32>, h=<tf.Tensor 'bidirectional_rnn/fw/fw/while/Exit_3:0' shape=(?, 20) dtype=float32>)\n",
      "\n",
      "反向:\n",
      "\tLSTMStateTuple(c=<tf.Tensor 'bidirectional_rnn/bw/bw/while/Exit_2:0' shape=(?, 20) dtype=float32>, h=<tf.Tensor 'bidirectional_rnn/bw/bw/while/Exit_3:0' shape=(?, 20) dtype=float32>)\n",
      "\n",
      "拼接后的双向LSTM的状态Tensor:\n",
      "\tLSTMStateTuple(c=<tf.Tensor 'concat:0' shape=(?, 40) dtype=float32>, h=<tf.Tensor 'concat_1:0' shape=(?, 40) dtype=float32>)\n"
     ]
    }
   ],
   "source": [
    "print('拼接前的前向和反向LSTM的状态Tensors')\n",
    "print('\\n前向:')\n",
    "print('\\t%s' % repr(encoder_fw_final_state))\n",
    "print('\\n反向:')\n",
    "print('\\t%s' % repr(encoder_bw_final_state))\n",
    "print('\\n拼接后的双向LSTM的状态Tensor:')\n",
    "print('\\t%s' % repr(encoder_final_state))"
   ]
  },
  {
   "cell_type": "markdown",
   "metadata": {},
   "source": [
    "## 3. Vanilla 版本 Decoder\n",
    "* 使用 **`minibatch`**个输入序列在 **`encoder`** RNN的 **`final-state`** 作为 **`decoder`** 的 **`initial-state`**\n",
    "* 使用 **`dynamic_rnn`** 将一个 **`minibatch`** 的**`final_state`** 解码为**`minibatch`** 个 输出序列"
   ]
  },
  {
   "cell_type": "markdown",
   "metadata": {},
   "source": [
    "### 在decoding阶段，我们不知道`sequence_length`的数值，即输出sequence的长度\n",
    "\n",
    "* 如果我们提供**`decoder_inputs`**, 则**`dynamic_rnn`**返回和**`inputs`**同样长度的**outputs**\n",
    "* **`decoder_inputs`**的长度和内容是一个non-trivial的问题"
   ]
  },
  {
   "cell_type": "code",
   "execution_count": 12,
   "metadata": {
    "collapsed": true
   },
   "outputs": [],
   "source": [
    "decoder_cell = tf.nn.rnn_cell.BasicLSTMCell(decoder_hidden_units)\n",
    "\n",
    "decoder_outputs, decoder_final_state = tf.nn.dynamic_rnn(\n",
    "    cell = decoder_cell,\n",
    "    inputs = decoder_inputs_embedded,\n",
    "    initial_state=encoder_final_state,\n",
    "    dtype=tf.float32,\n",
    "    time_major=True,\n",
    "    scope=\"plain_decoder\",\n",
    ")"
   ]
  },
  {
   "cell_type": "markdown",
   "metadata": {},
   "source": [
    "## 4. Prediction and Loss"
   ]
  },
  {
   "cell_type": "code",
   "execution_count": 13,
   "metadata": {
    "collapsed": true
   },
   "outputs": [],
   "source": [
    "decoder_logits = tf.contrib.layers.linear(decoder_outputs, vocab_size)\n",
    "decoder_prediction = tf.argmax(decoder_logits, 2)"
   ]
  },
  {
   "cell_type": "code",
   "execution_count": 14,
   "metadata": {},
   "outputs": [
    {
     "name": "stdout",
     "output_type": "stream",
     "text": [
      "查看decoder_logits的维度（最后一个维度是vocab_size）：\n"
     ]
    },
    {
     "data": {
      "text/plain": [
       "<tf.Tensor 'fully_connected/BiasAdd:0' shape=(?, ?, 10) dtype=float32>"
      ]
     },
     "execution_count": 14,
     "metadata": {},
     "output_type": "execute_result"
    }
   ],
   "source": [
    "print('查看decoder_logits的维度（最后一个维度是vocab_size）：')\n",
    "decoder_logits"
   ]
  },
  {
   "cell_type": "markdown",
   "metadata": {},
   "source": [
    "### 计算维度`[batch_size, maxT, vocab_size]`的`decoder_prediction` 和同样维度的解码目标`decoder_targets`之间的cross-entropy损失函数\n",
    "\n",
    "#### 这里需要注意一个问题，`<eos>`后面的`subsequence` 也会被用来计算loss\n",
    "\n",
    "以上图为例\n",
    "* 如果target是 `[W, X, Y, Z, <EOS>, <PAD>, <PAD>, <PAD>, <PAD>]`\n",
    "* decoding结果是 `[W, X, Y, Z, <EOS>, Z, Y, Z, W]`\n",
    "\n",
    "衡量这两个sequence区别的cross entropy loss 应该是多少？"
   ]
  },
  {
   "cell_type": "code",
   "execution_count": 15,
   "metadata": {
    "collapsed": true
   },
   "outputs": [],
   "source": [
    "stepwise_cross_entropy = tf.nn.softmax_cross_entropy_with_logits(\n",
    "    labels=tf.one_hot(decoder_targets, depth=vocab_size, dtype=tf.float32),\n",
    "    logits=decoder_logits,\n",
    ")\n",
    "\n",
    "loss = tf.reduce_mean(stepwise_cross_entropy)\n",
    "train_op = tf.train.AdamOptimizer().minimize(loss)"
   ]
  },
  {
   "cell_type": "code",
   "execution_count": 16,
   "metadata": {
    "collapsed": true
   },
   "outputs": [],
   "source": [
    "sess.run(tf.global_variables_initializer())"
   ]
  },
  {
   "cell_type": "markdown",
   "metadata": {},
   "source": [
    "## 5. 运行forward-propagation\n",
    "\n",
    "**产生一个minibatch的sequence，实验`seq2seq model forward-propagation`，seq2seq模型的prediction任务是复制input sequence**\n",
    "\n",
    "* 在encoding阶段，我们只需要`input_sequence`\n",
    "* 在decoding阶段，我们通常需要使用两个变量\n",
    "  1. `decoder_input`： 作为RNN模型的底层输入数据，**内容见下面的例子**\n",
    "  2. `initial_state`： 作为RNN模型的初始状态，seq2seq模型里面，通常对应着encoder的final state\n",
    "* 在projection阶段：对`decoder_output`（RNN decoding模型运行的输出)通过一个linear projection预测单词ID\n",
    "* 在训练阶段，projection结束后，我们还需要一个变量来计算损失函数\n",
    "  3. `decoder_target`： 用来和decoder_output预测的单词sequence比较，计算prediction的准确性。在我们的复制任务里面，等于 `input_sequence` + `<eos>`"
   ]
  },
  {
   "cell_type": "code",
   "execution_count": 17,
   "metadata": {},
   "outputs": [
    {
     "name": "stdout",
     "output_type": "stream",
     "text": [
      "产生100个长度不一的sequence\n",
      "其中前十个是:\n",
      "[9, 6, 6, 5]\n",
      "[7, 5, 8, 7, 8, 5]\n",
      "[3, 4, 2, 2]\n",
      "[4, 2, 9, 8, 8]\n",
      "[8, 5, 5, 4, 6, 7, 3]\n",
      "[6, 5, 3, 8]\n",
      "[2, 2, 9]\n",
      "[8, 3, 7, 8]\n",
      "[3, 8, 2, 5, 8]\n",
      "[4, 8, 5, 3, 2, 9, 5, 9]\n"
     ]
    }
   ],
   "source": [
    "batch_size = 100\n",
    "\n",
    "batches = data_helpers.random_sequences(length_from=3, length_to=8,\n",
    "                                        vocab_lower=2, vocab_upper=10,\n",
    "                                        batch_size=batch_size)\n",
    "\n",
    "print('产生100个长度不一的sequence')\n",
    "print('其中前十个是:')\n",
    "for seq in next(batches)[:10]:\n",
    "    print(seq)\n",
    "\n",
    "def next_feed():\n",
    "    batch = next(batches)\n",
    "    \n",
    "    encoder_inputs_, encoder_inputs_length_ = data_helpers.batch(batch)\n",
    "    decoder_targets_, _ = data_helpers.batch(\n",
    "        [(sequence) + [EOS] for sequence in batch]\n",
    "    )\n",
    "    decoder_inputs_, _ = data_helpers.batch(\n",
    "        [[EOS] + (sequence) for sequence in batch]\n",
    "    )\n",
    "    \n",
    "    # 在feedDict里面，key可以是一个Tensor\n",
    "    return {\n",
    "        encoder_inputs: encoder_inputs_,\n",
    "        encoder_inputs_length: encoder_inputs_length_,\n",
    "        decoder_inputs: decoder_inputs_,\n",
    "        decoder_targets: decoder_targets_,\n",
    "    }"
   ]
  },
  {
   "cell_type": "code",
   "execution_count": 18,
   "metadata": {},
   "outputs": [
    {
     "name": "stdout",
     "output_type": "stream",
     "text": [
      "encoder_inputs:\n",
      "[7 8 7 5 6 9 5 0]\n",
      "encoder_inputs_length:\n",
      "7\n",
      "decoder_inputs:\n",
      "[1 7 8 7 5 6 9 5 0]\n",
      "decoder_targets:\n",
      "[7 8 7 5 6 9 5 1 0]\n"
     ]
    }
   ],
   "source": [
    "x = next_feed()\n",
    "print('encoder_inputs:')\n",
    "print(x[encoder_inputs][:,0].T)\n",
    "print('encoder_inputs_length:')\n",
    "print(x[encoder_inputs_length][0])\n",
    "print('decoder_inputs:')\n",
    "print(x[decoder_inputs][:,0].T)\n",
    "print('decoder_targets:')\n",
    "print(x[decoder_targets][:,0].T)"
   ]
  },
  {
   "cell_type": "code",
   "execution_count": 19,
   "metadata": {
    "collapsed": true
   },
   "outputs": [],
   "source": [
    "pred, _, l = sess.run([decoder_prediction, train_op, loss], x)"
   ]
  },
  {
   "cell_type": "code",
   "execution_count": 20,
   "metadata": {},
   "outputs": [
    {
     "name": "stdout",
     "output_type": "stream",
     "text": [
      "decoder_targets\n",
      "[[7 8 7 5 6 9 5 1 0]\n",
      " [4 5 5 5 5 8 8 1 0]\n",
      " [2 5 6 6 7 2 9 6 1]\n",
      " [7 8 2 8 8 7 4 1 0]\n",
      " [7 8 7 8 8 7 3 1 0]]\n",
      "decoder_inputs\n",
      "[[1 7 8 7 5 6 9 5 0]\n",
      " [1 4 5 5 5 5 8 8 0]\n",
      " [1 2 5 6 6 7 2 9 6]\n",
      " [1 7 8 2 8 8 7 4 0]\n",
      " [1 7 8 7 8 8 7 3 0]]\n",
      "prediction\n",
      "[[7 7 3 3 3 3 3 3 7]\n",
      " [7 7 7 7 7 7 7 3 7]\n",
      " [7 1 1 1 6 6 6 3 3]\n",
      " [0 3 3 3 3 3 3 3 3]\n",
      " [4 3 3 3 3 3 3 3 3]]\n"
     ]
    }
   ],
   "source": [
    "print('decoder_targets')\n",
    "print(x[decoder_targets][:,0:5].T)\n",
    "\n",
    "print('decoder_inputs')\n",
    "print(x[decoder_inputs][:,0:5].T)\n",
    "\n",
    "print('prediction')\n",
    "print(pred[:,0:5].T)"
   ]
  },
  {
   "cell_type": "markdown",
   "metadata": {},
   "source": [
    "几个训练用的样本和输出的结果，注意三者的区别\n",
    "\n",
    "```\n",
    "decoder_targets\n",
    "[[9 8 6 1 0 0 0 0 0]\n",
    " [8 3 4 7 1 0 0 0 0]\n",
    " [6 2 6 4 6 4 4 3 1]\n",
    " [3 7 6 5 5 8 1 0 0]\n",
    " [6 9 4 7 1 0 0 0 0]]\n",
    "decoder_inputs\n",
    "[[1 9 8 6 0 0 0 0 0]\n",
    " [1 8 3 4 7 0 0 0 0]\n",
    " [1 6 2 6 4 6 4 4 3]\n",
    " [1 3 7 6 5 5 8 0 0]\n",
    " [1 6 9 4 7 0 0 0 0]]\n",
    "prediction\n",
    "[[2 2 2 7 2 2 2 2 2]\n",
    " [2 2 2 1 0 2 2 2 2]\n",
    " [4 4 4 7 7 7 7 7 7]\n",
    " [2 1 1 7 2 0 0 2 2]\n",
    " [2 2 4 7 7 7 6 2 2]]\n",
    "\n",
    "```\n",
    "\n",
    "* 在这里我们将真实的input shift以后作为decoding 的 input\n",
    "\n",
    "* 在下一个实验里面，将要讨论**`decoder_input`**的其他选项\n",
    "\n",
    "![alt text](figure/seq2seq2014.png)\n",
    "再次引用此图，和上面的训练用的样本对应\n"
   ]
  },
  {
   "cell_type": "markdown",
   "metadata": {},
   "source": [
    "## Demo-II：训练使用(bidirectional-)dynamic_rnn的简单的seq2seq模型\n",
    "\n",
    "相对于demo-I增加optimization部分"
   ]
  },
  {
   "cell_type": "code",
   "execution_count": 21,
   "metadata": {
    "collapsed": true
   },
   "outputs": [],
   "source": [
    "loss_track = []"
   ]
  },
  {
   "cell_type": "markdown",
   "metadata": {},
   "source": [
    "```python\n",
    "# 将 encoding 和 decoding 数据输入计算图，得到预测的词语sequence\n",
    "with tf.Session() as session:\n",
    "    session.run(tf.global_variables_initializer())\n",
    "    pred_, loss = session.run([decoder_prediction, loss],\n",
    "        feed_dict={\n",
    "            encoder_inputs: ein_,\n",
    "            encoder_inputs_length: ein_length_,\n",
    "            decoder_inputs: din_,\n",
    "            decoder_targets: dtar_\n",
    "        })\n",
    "\n",
    "    print('decoder predictions:\\n' + str(pred_))\n",
    "```"
   ]
  },
  {
   "cell_type": "code",
   "execution_count": 22,
   "metadata": {},
   "outputs": [
    {
     "name": "stdout",
     "output_type": "stream",
     "text": [
      "batch 0\n",
      "  minibatch loss: 2.3100972175598145\n",
      "  sample 1:\n",
      "    input     > [6 9 2 8 7 4 0 0]\n",
      "    predicted > [7 6 8 0 3 3 3 0 7]\n",
      "  sample 2:\n",
      "    input     > [9 6 8 9 8 5 6 8]\n",
      "    predicted > [7 0 8 3 8 3 3 3 3]\n",
      "  sample 3:\n",
      "    input     > [9 8 6 8 0 0 0 0]\n",
      "    predicted > [7 0 3 3 3 3 7 7 7]\n",
      "\n",
      "batch 1000\n",
      "  minibatch loss: 0.1688162386417389\n",
      "  sample 1:\n",
      "    input     > [5 7 3 6 0 0 0 0]\n",
      "    predicted > [5 7 3 6 1 0 0 0 0]\n",
      "  sample 2:\n",
      "    input     > [2 8 3 0 0 0 0 0]\n",
      "    predicted > [2 8 3 1 0 0 0 0 0]\n",
      "  sample 3:\n",
      "    input     > [2 5 9 4 0 0 0 0]\n",
      "    predicted > [2 5 9 4 1 0 0 0 0]\n",
      "\n",
      "batch 2000\n",
      "  minibatch loss: 0.07107728719711304\n",
      "  sample 1:\n",
      "    input     > [4 3 5 3 4 0 0 0]\n",
      "    predicted > [4 3 5 3 4 1 0 0 0]\n",
      "  sample 2:\n",
      "    input     > [9 6 8 6 7 6 0 0]\n",
      "    predicted > [9 6 8 6 7 6 1 0 0]\n",
      "  sample 3:\n",
      "    input     > [4 3 2 3 2 2 0 0]\n",
      "    predicted > [4 3 2 3 2 2 1 0 0]\n",
      "\n",
      "batch 3000\n",
      "  minibatch loss: 0.045918647199869156\n",
      "  sample 1:\n",
      "    input     > [8 7 9 2 8 5 0 0]\n",
      "    predicted > [8 7 9 2 8 5 1 0 0]\n",
      "  sample 2:\n",
      "    input     > [7 8 4 0 0 0 0 0]\n",
      "    predicted > [7 8 4 1 0 0 0 0 0]\n",
      "  sample 3:\n",
      "    input     > [2 4 3 5 7 0 0 0]\n",
      "    predicted > [2 4 3 5 7 1 0 0 0]\n",
      "\n"
     ]
    }
   ],
   "source": [
    "max_batches = 3001\n",
    "batches_in_epoch = 1000\n",
    "\n",
    "try:\n",
    "    # 一个epoch的learning\n",
    "    for batch in range(max_batches):\n",
    "        fd = next_feed()\n",
    "        _, _, l = sess.run([decoder_prediction, train_op, loss], fd)\n",
    "        loss_track.append(l)\n",
    "        \n",
    "        if batch == 0 or batch % batches_in_epoch == 0:\n",
    "            print('batch {}'.format(batch))\n",
    "            print('  minibatch loss: {}'.format(sess.run(loss, fd)))\n",
    "            predict_ = sess.run(decoder_prediction, fd)\n",
    "            for i, (inp, pred) in enumerate(zip(fd[encoder_inputs].T, predict_.T)):\n",
    "                print('  sample {}:'.format(i + 1))\n",
    "                print('    input     > {}'.format(inp))\n",
    "                print('    predicted > {}'.format(pred))\n",
    "                if i >= 2:\n",
    "                    break\n",
    "            print()\n",
    "        \n",
    "except KeyboardInterrupt:\n",
    "    print('training interrupted')"
   ]
  },
  {
   "cell_type": "markdown",
   "metadata": {},
   "source": [
    "## decoder output的长度问题\n",
    "\n",
    "* 和RNNLM不同，在seq2seq模型中，decoding阶段产生的序列的长度是未知的\n",
    "* 如何设定decoding序列的长度？\n",
    "* 可以设定decoding比encoding输入序列长NUM个单位，比较decoding prediction的`<eos>`之前的subsequence和真实的decoding_target的差别作为损失函数"
   ]
  },
  {
   "cell_type": "code",
   "execution_count": 23,
   "metadata": {},
   "outputs": [
    {
     "name": "stdout",
     "output_type": "stream",
     "text": [
      "loss 0.0512 after 300100 examples (batch_size=100)\n"
     ]
    },
    {
     "data": {
      "image/png": "[encoded data removed]",
      "text/plain": [
       "<matplotlib.figure.Figure at 0x129672978>"
      ]
     },
     "metadata": {},
     "output_type": "display_data"
    }
   ],
   "source": [
    "%matplotlib inline\n",
    "import matplotlib.pyplot as plt\n",
    "plt.plot(loss_track)\n",
    "print('loss {:.4f} after {} examples (batch_size={})'.format(loss_track[-1], len(loss_track)*batch_size, batch_size))"
   ]
  },
  {
   "cell_type": "code",
   "execution_count": null,
   "metadata": {
    "collapsed": true
   },
   "outputs": [],
   "source": []
  }
 ],
 "metadata": {
  "kernelspec": {
   "display_name": "Python 3",
   "language": "python",
   "name": "python3"
  },
  "language_info": {
   "codemirror_mode": {
    "name": "ipython",
    "version": 3
   },
   "file_extension": ".py",
   "mimetype": "text/x-python",
   "name": "python",
   "nbconvert_exporter": "python",
   "pygments_lexer": "ipython3",
   "version": "3.6.1"
  }
 },
 "nbformat": 4,
 "nbformat_minor": 2
}
